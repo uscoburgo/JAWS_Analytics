{
 "cells": [
  {
   "cell_type": "code",
   "execution_count": 2,
   "metadata": {},
   "outputs": [
    {
     "data": {
      "text/html": [
       "<div>\n",
       "<style scoped>\n",
       "    .dataframe tbody tr th:only-of-type {\n",
       "        vertical-align: middle;\n",
       "    }\n",
       "\n",
       "    .dataframe tbody tr th {\n",
       "        vertical-align: top;\n",
       "    }\n",
       "\n",
       "    .dataframe thead th {\n",
       "        text-align: right;\n",
       "    }\n",
       "</style>\n",
       "<table border=\"1\" class=\"dataframe\">\n",
       "  <thead>\n",
       "    <tr style=\"text-align: right;\">\n",
       "      <th></th>\n",
       "      <th>Unnamed: 0</th>\n",
       "      <th>Date</th>\n",
       "      <th>Year</th>\n",
       "      <th>Type</th>\n",
       "      <th>Country</th>\n",
       "      <th>Area</th>\n",
       "      <th>Location</th>\n",
       "      <th>Activity</th>\n",
       "      <th>Sex</th>\n",
       "      <th>Age</th>\n",
       "      <th>Fatal (Y/N)</th>\n",
       "      <th>Time</th>\n",
       "      <th>Species</th>\n",
       "    </tr>\n",
       "  </thead>\n",
       "  <tbody>\n",
       "    <tr>\n",
       "      <th>0</th>\n",
       "      <td>0</td>\n",
       "      <td>25-Jun-2018</td>\n",
       "      <td>2018</td>\n",
       "      <td>Uncertain</td>\n",
       "      <td>USA</td>\n",
       "      <td>California</td>\n",
       "      <td>Oceanside, San Diego County</td>\n",
       "      <td>PADDLING</td>\n",
       "      <td>F</td>\n",
       "      <td>57</td>\n",
       "      <td>N</td>\n",
       "      <td>18h00</td>\n",
       "      <td>WHITE SHARK</td>\n",
       "    </tr>\n",
       "    <tr>\n",
       "      <th>1</th>\n",
       "      <td>1</td>\n",
       "      <td>18-Jun-2018</td>\n",
       "      <td>2018</td>\n",
       "      <td>Unprovoked</td>\n",
       "      <td>USA</td>\n",
       "      <td>Georgia</td>\n",
       "      <td>St. Simon Island, Glynn County</td>\n",
       "      <td>STANDING</td>\n",
       "      <td>F</td>\n",
       "      <td>11</td>\n",
       "      <td>N</td>\n",
       "      <td>14h00  -15h00</td>\n",
       "      <td>Unknown</td>\n",
       "    </tr>\n",
       "    <tr>\n",
       "      <th>2</th>\n",
       "      <td>2</td>\n",
       "      <td>09-Jun-2018</td>\n",
       "      <td>2018</td>\n",
       "      <td>Uncertain</td>\n",
       "      <td>USA</td>\n",
       "      <td>Hawaii</td>\n",
       "      <td>Habush, Oahu</td>\n",
       "      <td>SURFING/WATERSPORTS</td>\n",
       "      <td>M</td>\n",
       "      <td>48</td>\n",
       "      <td>N</td>\n",
       "      <td>07h45</td>\n",
       "      <td>Unknown</td>\n",
       "    </tr>\n",
       "    <tr>\n",
       "      <th>3</th>\n",
       "      <td>3</td>\n",
       "      <td>08-Jun-2018</td>\n",
       "      <td>2018</td>\n",
       "      <td>Unprovoked</td>\n",
       "      <td>AUSTRALIA</td>\n",
       "      <td>New South Wales</td>\n",
       "      <td>Arrawarra Headland</td>\n",
       "      <td>SURFING/WATERSPORTS</td>\n",
       "      <td>M</td>\n",
       "      <td>Unknown</td>\n",
       "      <td>N</td>\n",
       "      <td>Unknown</td>\n",
       "      <td>Unknown</td>\n",
       "    </tr>\n",
       "    <tr>\n",
       "      <th>4</th>\n",
       "      <td>4</td>\n",
       "      <td>04-Jun-2018</td>\n",
       "      <td>2018</td>\n",
       "      <td>Provoked</td>\n",
       "      <td>MEXICO</td>\n",
       "      <td>Colima</td>\n",
       "      <td>La Ticla</td>\n",
       "      <td>SWIMMING/DIVING</td>\n",
       "      <td>M</td>\n",
       "      <td>Unknown</td>\n",
       "      <td>N</td>\n",
       "      <td>Unknown</td>\n",
       "      <td>TIGER SHARK</td>\n",
       "    </tr>\n",
       "  </tbody>\n",
       "</table>\n",
       "</div>"
      ],
      "text/plain": [
       "   Unnamed: 0         Date  Year        Type    Country             Area  \\\n",
       "0           0  25-Jun-2018  2018   Uncertain        USA       California   \n",
       "1           1  18-Jun-2018  2018  Unprovoked        USA          Georgia   \n",
       "2           2  09-Jun-2018  2018   Uncertain        USA           Hawaii   \n",
       "3           3  08-Jun-2018  2018  Unprovoked  AUSTRALIA  New South Wales   \n",
       "4           4  04-Jun-2018  2018    Provoked     MEXICO           Colima   \n",
       "\n",
       "                         Location             Activity Sex       Age  \\\n",
       "0     Oceanside, San Diego County             PADDLING    F       57   \n",
       "1  St. Simon Island, Glynn County             STANDING    F       11   \n",
       "2                    Habush, Oahu  SURFING/WATERSPORTS    M       48   \n",
       "3              Arrawarra Headland  SURFING/WATERSPORTS    M  Unknown   \n",
       "4                        La Ticla      SWIMMING/DIVING    M  Unknown   \n",
       "\n",
       "  Fatal (Y/N)           Time     Species   \n",
       "0           N          18h00  WHITE SHARK  \n",
       "1           N  14h00  -15h00      Unknown  \n",
       "2           N          07h45      Unknown  \n",
       "3           N        Unknown      Unknown  \n",
       "4           N        Unknown  TIGER SHARK  "
      ]
     },
     "metadata": {},
     "output_type": "display_data"
    }
   ],
   "source": [
    "#Importing libreries\n",
    "import pandas as pd\n",
    "import numpy as np\n",
    "import matplotlib.pyplot as plt\n",
    "\n",
    "#Importing the clean dataframe\n",
    "dataSharks = pd.read_csv (\"../OUTPUT/sharks_clean.csv\",encoding = \"ISO-8859-1\")\n",
    "df = pd.DataFrame(dataSharks)\n",
    "display(df.head())"
   ]
  },
  {
   "cell_type": "markdown",
   "metadata": {},
   "source": [
    "### My Hypothesis:\n",
    "\n",
    "1. Provoked attacks are proportionately more lethal than unprovoked ones\n",
    "2. Most lethal attacks happen in New South Wales, Australia\n",
    "3. The most lethal shark is the white shark\n",
    "4. The most lethal activity for men is Swimming/Diving"
   ]
  },
  {
   "cell_type": "markdown",
   "metadata": {},
   "source": [
    "### Hypothesis 1: Provoked attacks are proportionately more lethal than unprovoked ones"
   ]
  },
  {
   "cell_type": "code",
   "execution_count": 3,
   "metadata": {},
   "outputs": [
    {
     "data": {
      "text/html": [
       "<div>\n",
       "<style scoped>\n",
       "    .dataframe tbody tr th:only-of-type {\n",
       "        vertical-align: middle;\n",
       "    }\n",
       "\n",
       "    .dataframe tbody tr th {\n",
       "        vertical-align: top;\n",
       "    }\n",
       "\n",
       "    .dataframe thead th {\n",
       "        text-align: right;\n",
       "    }\n",
       "</style>\n",
       "<table border=\"1\" class=\"dataframe\">\n",
       "  <thead>\n",
       "    <tr style=\"text-align: right;\">\n",
       "      <th></th>\n",
       "      <th>Unnamed: 0</th>\n",
       "      <th>Date</th>\n",
       "      <th>Year</th>\n",
       "      <th>Type</th>\n",
       "      <th>Country</th>\n",
       "      <th>Area</th>\n",
       "      <th>Location</th>\n",
       "      <th>Activity</th>\n",
       "      <th>Sex</th>\n",
       "      <th>Age</th>\n",
       "      <th>Fatal (Y/N)</th>\n",
       "      <th>Time</th>\n",
       "      <th>Species</th>\n",
       "    </tr>\n",
       "  </thead>\n",
       "  <tbody>\n",
       "    <tr>\n",
       "      <th>1</th>\n",
       "      <td>1</td>\n",
       "      <td>18-Jun-2018</td>\n",
       "      <td>2018</td>\n",
       "      <td>Unprovoked</td>\n",
       "      <td>USA</td>\n",
       "      <td>Georgia</td>\n",
       "      <td>St. Simon Island, Glynn County</td>\n",
       "      <td>STANDING</td>\n",
       "      <td>F</td>\n",
       "      <td>11</td>\n",
       "      <td>N</td>\n",
       "      <td>14h00  -15h00</td>\n",
       "      <td>Unknown</td>\n",
       "    </tr>\n",
       "    <tr>\n",
       "      <th>3</th>\n",
       "      <td>3</td>\n",
       "      <td>08-Jun-2018</td>\n",
       "      <td>2018</td>\n",
       "      <td>Unprovoked</td>\n",
       "      <td>AUSTRALIA</td>\n",
       "      <td>New South Wales</td>\n",
       "      <td>Arrawarra Headland</td>\n",
       "      <td>SURFING/WATERSPORTS</td>\n",
       "      <td>M</td>\n",
       "      <td>Unknown</td>\n",
       "      <td>N</td>\n",
       "      <td>Unknown</td>\n",
       "      <td>Unknown</td>\n",
       "    </tr>\n",
       "    <tr>\n",
       "      <th>4</th>\n",
       "      <td>4</td>\n",
       "      <td>04-Jun-2018</td>\n",
       "      <td>2018</td>\n",
       "      <td>Provoked</td>\n",
       "      <td>MEXICO</td>\n",
       "      <td>Colima</td>\n",
       "      <td>La Ticla</td>\n",
       "      <td>SWIMMING/DIVING</td>\n",
       "      <td>M</td>\n",
       "      <td>Unknown</td>\n",
       "      <td>N</td>\n",
       "      <td>Unknown</td>\n",
       "      <td>TIGER SHARK</td>\n",
       "    </tr>\n",
       "    <tr>\n",
       "      <th>5</th>\n",
       "      <td>5</td>\n",
       "      <td>03-Jun-2018</td>\n",
       "      <td>2018</td>\n",
       "      <td>Unprovoked</td>\n",
       "      <td>AUSTRALIA</td>\n",
       "      <td>New South Wales</td>\n",
       "      <td>Flat Rock, Ballina</td>\n",
       "      <td>SURFING/WATERSPORTS</td>\n",
       "      <td>M</td>\n",
       "      <td>Unknown</td>\n",
       "      <td>N</td>\n",
       "      <td>Unknown</td>\n",
       "      <td>Unknown</td>\n",
       "    </tr>\n",
       "    <tr>\n",
       "      <th>6</th>\n",
       "      <td>6</td>\n",
       "      <td>03-Jun-2018</td>\n",
       "      <td>2018</td>\n",
       "      <td>Unprovoked</td>\n",
       "      <td>BRAZIL</td>\n",
       "      <td>Pernambuco</td>\n",
       "      <td>Piedade Beach, Recife</td>\n",
       "      <td>SWIMMING/DIVING</td>\n",
       "      <td>M</td>\n",
       "      <td>18</td>\n",
       "      <td>Y</td>\n",
       "      <td>Late afternoon</td>\n",
       "      <td>TIGER SHARK</td>\n",
       "    </tr>\n",
       "    <tr>\n",
       "      <th>...</th>\n",
       "      <td>...</td>\n",
       "      <td>...</td>\n",
       "      <td>...</td>\n",
       "      <td>...</td>\n",
       "      <td>...</td>\n",
       "      <td>...</td>\n",
       "      <td>...</td>\n",
       "      <td>...</td>\n",
       "      <td>...</td>\n",
       "      <td>...</td>\n",
       "      <td>...</td>\n",
       "      <td>...</td>\n",
       "      <td>...</td>\n",
       "    </tr>\n",
       "    <tr>\n",
       "      <th>6280</th>\n",
       "      <td>6297</td>\n",
       "      <td>Before 1903</td>\n",
       "      <td>1903</td>\n",
       "      <td>Unprovoked</td>\n",
       "      <td>AUSTRALIA</td>\n",
       "      <td>Western Australia</td>\n",
       "      <td>Roebuck Bay</td>\n",
       "      <td>SWIMMING/DIVING</td>\n",
       "      <td>M</td>\n",
       "      <td>Unknown</td>\n",
       "      <td>Y</td>\n",
       "      <td>Unknown</td>\n",
       "      <td>Unknown</td>\n",
       "    </tr>\n",
       "    <tr>\n",
       "      <th>6281</th>\n",
       "      <td>6298</td>\n",
       "      <td>Before 1903</td>\n",
       "      <td>1903</td>\n",
       "      <td>Unprovoked</td>\n",
       "      <td>AUSTRALIA</td>\n",
       "      <td>Western Australia</td>\n",
       "      <td>Unknown</td>\n",
       "      <td>SWIMMING/DIVING</td>\n",
       "      <td>M</td>\n",
       "      <td>Unknown</td>\n",
       "      <td>Y</td>\n",
       "      <td>Unknown</td>\n",
       "      <td>Unknown</td>\n",
       "    </tr>\n",
       "    <tr>\n",
       "      <th>6282</th>\n",
       "      <td>6299</td>\n",
       "      <td>1900-1905</td>\n",
       "      <td>1900</td>\n",
       "      <td>Unprovoked</td>\n",
       "      <td>USA</td>\n",
       "      <td>North Carolina</td>\n",
       "      <td>Ocracoke Inlet</td>\n",
       "      <td>SWIMMING/DIVING</td>\n",
       "      <td>M</td>\n",
       "      <td>Unknown</td>\n",
       "      <td>Y</td>\n",
       "      <td>Unknown</td>\n",
       "      <td>Unknown</td>\n",
       "    </tr>\n",
       "    <tr>\n",
       "      <th>6283</th>\n",
       "      <td>6300</td>\n",
       "      <td>1883-1889</td>\n",
       "      <td>1883</td>\n",
       "      <td>Unprovoked</td>\n",
       "      <td>PANAMA</td>\n",
       "      <td>Unknown</td>\n",
       "      <td>Panama Bay 8ÂºN, 79ÂºW</td>\n",
       "      <td>UNKNOWN</td>\n",
       "      <td>M</td>\n",
       "      <td>Unknown</td>\n",
       "      <td>Y</td>\n",
       "      <td>Unknown</td>\n",
       "      <td>Unknown</td>\n",
       "    </tr>\n",
       "    <tr>\n",
       "      <th>6284</th>\n",
       "      <td>6301</td>\n",
       "      <td>1845-1853</td>\n",
       "      <td>1845</td>\n",
       "      <td>Unprovoked</td>\n",
       "      <td>CEYLON (SRI LANKA)</td>\n",
       "      <td>Eastern Province</td>\n",
       "      <td>Below the English fort, Trincomalee</td>\n",
       "      <td>SWIMMING/DIVING</td>\n",
       "      <td>M</td>\n",
       "      <td>15</td>\n",
       "      <td>Y</td>\n",
       "      <td>Unknown</td>\n",
       "      <td>Unknown</td>\n",
       "    </tr>\n",
       "  </tbody>\n",
       "</table>\n",
       "<p>5085 rows × 13 columns</p>\n",
       "</div>"
      ],
      "text/plain": [
       "      Unnamed: 0         Date  Year        Type             Country  \\\n",
       "1              1  18-Jun-2018  2018  Unprovoked                 USA   \n",
       "3              3  08-Jun-2018  2018  Unprovoked           AUSTRALIA   \n",
       "4              4  04-Jun-2018  2018    Provoked              MEXICO   \n",
       "5              5  03-Jun-2018  2018  Unprovoked           AUSTRALIA   \n",
       "6              6  03-Jun-2018  2018  Unprovoked              BRAZIL   \n",
       "...          ...          ...   ...         ...                 ...   \n",
       "6280        6297  Before 1903  1903  Unprovoked           AUSTRALIA   \n",
       "6281        6298  Before 1903  1903  Unprovoked           AUSTRALIA   \n",
       "6282        6299    1900-1905  1900  Unprovoked                 USA   \n",
       "6283        6300    1883-1889  1883  Unprovoked              PANAMA   \n",
       "6284        6301    1845-1853  1845  Unprovoked  CEYLON (SRI LANKA)   \n",
       "\n",
       "                   Area                             Location  \\\n",
       "1               Georgia       St. Simon Island, Glynn County   \n",
       "3       New South Wales                   Arrawarra Headland   \n",
       "4                Colima                             La Ticla   \n",
       "5       New South Wales                   Flat Rock, Ballina   \n",
       "6            Pernambuco                Piedade Beach, Recife   \n",
       "...                 ...                                  ...   \n",
       "6280  Western Australia                          Roebuck Bay   \n",
       "6281  Western Australia                              Unknown   \n",
       "6282     North Carolina                       Ocracoke Inlet   \n",
       "6283            Unknown               Panama Bay 8ÂºN, 79ÂºW   \n",
       "6284   Eastern Province  Below the English fort, Trincomalee   \n",
       "\n",
       "                 Activity Sex       Age Fatal (Y/N)            Time  \\\n",
       "1                STANDING    F       11           N   14h00  -15h00   \n",
       "3     SURFING/WATERSPORTS    M  Unknown           N         Unknown   \n",
       "4         SWIMMING/DIVING    M  Unknown           N         Unknown   \n",
       "5     SURFING/WATERSPORTS    M  Unknown           N         Unknown   \n",
       "6         SWIMMING/DIVING    M       18           Y  Late afternoon   \n",
       "...                   ...  ...      ...         ...             ...   \n",
       "6280      SWIMMING/DIVING    M  Unknown           Y         Unknown   \n",
       "6281      SWIMMING/DIVING    M  Unknown           Y         Unknown   \n",
       "6282      SWIMMING/DIVING    M  Unknown           Y         Unknown   \n",
       "6283              UNKNOWN    M  Unknown           Y         Unknown   \n",
       "6284      SWIMMING/DIVING    M       15           Y         Unknown   \n",
       "\n",
       "         Species   \n",
       "1         Unknown  \n",
       "3         Unknown  \n",
       "4     TIGER SHARK  \n",
       "5         Unknown  \n",
       "6     TIGER SHARK  \n",
       "...           ...  \n",
       "6280      Unknown  \n",
       "6281      Unknown  \n",
       "6282      Unknown  \n",
       "6283      Unknown  \n",
       "6284      Unknown  \n",
       "\n",
       "[5085 rows x 13 columns]"
      ]
     },
     "execution_count": 3,
     "metadata": {},
     "output_type": "execute_result"
    },
    {
     "data": {
      "image/png": "[encoded data removed]",
      "text/plain": [
       "<Figure size 432x288 with 1 Axes>"
      ]
     },
     "metadata": {
      "needs_background": "light"
     },
     "output_type": "display_data"
    }
   ],
   "source": [
    "# Creating a temporary df without the uncertain category for \"Type\" and without the Unknown category for \"Fatal\"\n",
    "df1=df[df[\"Type\"] != 'Uncertain']\n",
    "df1=df1[df1[\"Fatal (Y/N)\"] != 'Unknown']\n",
    "\n",
    "#Plotting to see the relation between \"Type\" and \"Fatal\"\n",
    "df1.groupby([\"Type\",\"Fatal (Y/N)\"]).agg({\"Fatal (Y/N)\": \"count\"}).unstack().plot.bar()\n",
    "df1\n"
   ]
  },
  {
   "cell_type": "markdown",
   "metadata": {},
   "source": [
    "We can see that my first hypothesis was wrong, and that unprovoked attacks are more deadly that provoked attacks. "
   ]
  },
  {
   "cell_type": "markdown",
   "metadata": {},
   "source": [
    "### Hypothesis 2: Most lethal attacks happen in New South Wales, Australia."
   ]
  },
  {
   "cell_type": "code",
   "execution_count": 4,
   "metadata": {},
   "outputs": [
    {
     "data": {
      "text/plain": [
       "<matplotlib.axes._subplots.AxesSubplot at 0x113192490>"
      ]
     },
     "execution_count": 4,
     "metadata": {},
     "output_type": "execute_result"
    },
    {
     "data": {
      "image/png": "[encoded data removed]",
      "text/plain": [
       "<Figure size 432x288 with 1 Axes>"
      ]
     },
     "metadata": {
      "needs_background": "light"
     },
     "output_type": "display_data"
    }
   ],
   "source": [
    "#filtering of the database keeping only the top5 countries cases.\n",
    "top5=df1['Country'].value_counts()[0:5].index\n",
    "\n",
    "#creation of a filter to consider only the all-value-known entries of the top 5 countries\n",
    "filter1=(df1['Country'].isin(top5))\n",
    "df3=df1[filter1]\n",
    "\n",
    "\n",
    "df3.groupby([\"Country\"]).agg({'Fatal (Y/N)': \"count\"}).plot.bar()"
   ]
  },
  {
   "cell_type": "code",
   "execution_count": 5,
   "metadata": {},
   "outputs": [
    {
     "data": {
      "text/plain": [
       "<matplotlib.axes._subplots.AxesSubplot at 0x1130b4610>"
      ]
     },
     "execution_count": 5,
     "metadata": {},
     "output_type": "execute_result"
    },
    {
     "data": {
      "image/png": "[encoded data removed]",
      "text/plain": [
       "<Figure size 432x288 with 1 Axes>"
      ]
     },
     "metadata": {
      "needs_background": "light"
     },
     "output_type": "display_data"
    }
   ],
   "source": [
    "filter_1=(df['Country'].isin(['USA','AUSTRALIA']))\n",
    "df3_1=df1[filter1]\n",
    "df3_2=df3_1[df3_1['Country']=='AUSTRALIA']['Area'].value_counts().sort_values(ascending=False)\n",
    "df3_3=df3_1[df3_1['Country']=='USA']['Area'].value_counts().sort_values(ascending=False)\n",
    "\n",
    "#Plot of the USA areas\n",
    "df3_3[df3_3.values > 15].plot.bar()"
   ]
  },
  {
   "cell_type": "code",
   "execution_count": 8,
   "metadata": {},
   "outputs": [
    {
     "data": {
      "text/plain": [
       "<matplotlib.axes._subplots.AxesSubplot at 0x111195ed0>"
      ]
     },
     "execution_count": 8,
     "metadata": {},
     "output_type": "execute_result"
    },
    {
     "data": {
      "image/png": "[encoded data removed]",
      "text/plain": [
       "<Figure size 432x288 with 1 Axes>"
      ]
     },
     "metadata": {
      "needs_background": "light"
     },
     "output_type": "display_data"
    }
   ],
   "source": [
    "df3_2.plot.bar()"
   ]
  },
  {
   "cell_type": "markdown",
   "metadata": {},
   "source": [
    "We can see that New South Wales (NSW) is not the most exposed area because Florida goes first but NSW closely follows behind."
   ]
  },
  {
   "cell_type": "markdown",
   "metadata": {},
   "source": [
    "### Hypothesis 3: The most lethal shark is the white shark."
   ]
  },
  {
   "cell_type": "code",
   "execution_count": 9,
   "metadata": {},
   "outputs": [
    {
     "data": {
      "text/plain": [
       "<matplotlib.axes._subplots.AxesSubplot at 0x1112be310>"
      ]
     },
     "execution_count": 9,
     "metadata": {},
     "output_type": "execute_result"
    },
    {
     "data": {
      "image/png": "[encoded data removed]",
      "text/plain": [
       "<Figure size 432x288 with 1 Axes>"
      ]
     },
     "metadata": {
      "needs_background": "light"
     },
     "output_type": "display_data"
    }
   ],
   "source": [
    "#I am considering only the top 5 most relevant species\n",
    "top5s=df[\"Species \"].value_counts()[1:6].index\n",
    "\n",
    "df2=df1[df1[\"Species \"].isin(top5s)]\n",
    "df2.groupby([\"Species \",\"Fatal (Y/N)\"]).agg({\"Fatal (Y/N)\": \"count\"}).unstack().plot.bar()"
   ]
  },
  {
   "cell_type": "code",
   "execution_count": 10,
   "metadata": {},
   "outputs": [
    {
     "data": {
      "text/html": [
       "<div>\n",
       "<style scoped>\n",
       "    .dataframe tbody tr th:only-of-type {\n",
       "        vertical-align: middle;\n",
       "    }\n",
       "\n",
       "    .dataframe tbody tr th {\n",
       "        vertical-align: top;\n",
       "    }\n",
       "\n",
       "    .dataframe thead th {\n",
       "        text-align: right;\n",
       "    }\n",
       "</style>\n",
       "<table border=\"1\" class=\"dataframe\">\n",
       "  <thead>\n",
       "    <tr style=\"text-align: right;\">\n",
       "      <th></th>\n",
       "      <th></th>\n",
       "      <th>Fatal (Y/N)</th>\n",
       "    </tr>\n",
       "    <tr>\n",
       "      <th>Species</th>\n",
       "      <th>Fatal (Y/N)</th>\n",
       "      <th></th>\n",
       "    </tr>\n",
       "  </thead>\n",
       "  <tbody>\n",
       "    <tr>\n",
       "      <th rowspan=\"2\" valign=\"top\">BULL SHARK</th>\n",
       "      <th>N</th>\n",
       "      <td>131</td>\n",
       "    </tr>\n",
       "    <tr>\n",
       "      <th>Y</th>\n",
       "      <td>35</td>\n",
       "    </tr>\n",
       "    <tr>\n",
       "      <th rowspan=\"2\" valign=\"top\">NURSE SHARK</th>\n",
       "      <th>N</th>\n",
       "      <td>91</td>\n",
       "    </tr>\n",
       "    <tr>\n",
       "      <th>Y</th>\n",
       "      <td>1</td>\n",
       "    </tr>\n",
       "    <tr>\n",
       "      <th rowspan=\"2\" valign=\"top\">TIGER SHARK</th>\n",
       "      <th>N</th>\n",
       "      <td>172</td>\n",
       "    </tr>\n",
       "    <tr>\n",
       "      <th>Y</th>\n",
       "      <td>63</td>\n",
       "    </tr>\n",
       "    <tr>\n",
       "      <th rowspan=\"2\" valign=\"top\">WHALER SHARK</th>\n",
       "      <th>N</th>\n",
       "      <td>57</td>\n",
       "    </tr>\n",
       "    <tr>\n",
       "      <th>Y</th>\n",
       "      <td>5</td>\n",
       "    </tr>\n",
       "    <tr>\n",
       "      <th rowspan=\"2\" valign=\"top\">WHITE SHARK</th>\n",
       "      <th>N</th>\n",
       "      <td>359</td>\n",
       "    </tr>\n",
       "    <tr>\n",
       "      <th>Y</th>\n",
       "      <td>136</td>\n",
       "    </tr>\n",
       "  </tbody>\n",
       "</table>\n",
       "</div>"
      ],
      "text/plain": [
       "                          Fatal (Y/N)\n",
       "Species      Fatal (Y/N)             \n",
       "BULL SHARK   N                    131\n",
       "             Y                     35\n",
       "NURSE SHARK  N                     91\n",
       "             Y                      1\n",
       "TIGER SHARK  N                    172\n",
       "             Y                     63\n",
       "WHALER SHARK N                     57\n",
       "             Y                      5\n",
       "WHITE SHARK  N                    359\n",
       "             Y                    136"
      ]
     },
     "execution_count": 10,
     "metadata": {},
     "output_type": "execute_result"
    }
   ],
   "source": [
    "df3=df2.groupby([\"Species \",\"Fatal (Y/N)\"]).agg({\"Fatal (Y/N)\": \"count\"})\n",
    "df3"
   ]
  },
  {
   "cell_type": "markdown",
   "metadata": {},
   "source": [
    "We can see that my third hypothesis is correct and that the great white shark is the most deadly one of them all."
   ]
  },
  {
   "cell_type": "markdown",
   "metadata": {},
   "source": [
    "### Hypothesis 4: The most lethal activity for men is Swimming/Diving"
   ]
  },
  {
   "cell_type": "code",
   "execution_count": 11,
   "metadata": {},
   "outputs": [
    {
     "data": {
      "text/plain": [
       "<matplotlib.axes._subplots.AxesSubplot at 0x111414790>"
      ]
     },
     "execution_count": 11,
     "metadata": {},
     "output_type": "execute_result"
    },
    {
     "data": {
      "image/png": "[encoded data removed]",
      "text/plain": [
       "<Figure size 432x288 with 1 Axes>"
      ]
     },
     "metadata": {
      "needs_background": "light"
     },
     "output_type": "display_data"
    }
   ],
   "source": [
    "#I am considering only the top 4 most relevant activities\n",
    "top4=df[\"Activity\"].value_counts()[0:4].index\n",
    "\n",
    "df4=df1[df1[\"Activity\"].isin(top4)]\n",
    "df4.groupby([\"Activity\",\"Fatal (Y/N)\"]).agg({\"Fatal (Y/N)\": \"count\"}).unstack().plot.bar()"
   ]
  },
  {
   "cell_type": "markdown",
   "metadata": {},
   "source": [
    "My last hypothesis is indeed correct. Most attacks happen to swimmers/snorkelers and scubba divers. This makes sense because contrary to surfers, swimmers and divers go further out the coast and are therefore more exposed to sharks."
   ]
  }
 ],
 "metadata": {
  "kernelspec": {
   "display_name": "Python 3.7.7 64-bit",
   "language": "python",
   "name": "python37764bit3bf07ec6f5f5414f84b8df9ac5c5f2a2"
  },
  "language_info": {
   "codemirror_mode": {
    "name": "ipython",
    "version": 3
   },
   "file_extension": ".py",
   "mimetype": "text/x-python",
   "name": "python",
   "nbconvert_exporter": "python",
   "pygments_lexer": "ipython3",
   "version": "3.7.7"
  }
 },
 "nbformat": 4,
 "nbformat_minor": 4
}
